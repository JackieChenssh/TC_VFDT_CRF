{
 "cells": [
  {
   "cell_type": "code",
   "execution_count": 1,
   "id": "546088f4",
   "metadata": {},
   "outputs": [],
   "source": [
    "import pickle\n",
    "import numpy as np\n",
    "from tqdm.notebook import tqdm,trange\n",
    "from sklearn.feature_extraction.text import HashingVectorizer"
   ]
  },
  {
   "cell_type": "code",
   "execution_count": 2,
   "id": "7e3c49b0",
   "metadata": {},
   "outputs": [],
   "source": [
    "from CRF import *\n",
    "CRF_feature = IOForFeature('CRF_feature.pkl',mode='rb')"
   ]
  },
  {
   "cell_type": "raw",
   "id": "ba54265a",
   "metadata": {},
   "source": [
    "载入已预处理的文本"
   ]
  },
  {
   "cell_type": "code",
   "execution_count": 3,
   "id": "9847b892",
   "metadata": {},
   "outputs": [],
   "source": [
    "data = np.load('datasets_transform.npz')\n",
    "datasets,id2classification = data['datasets'].tolist(),dict(data['id2classification'].tolist())"
   ]
  },
  {
   "cell_type": "code",
   "execution_count": 4,
   "id": "21575b4e",
   "metadata": {},
   "outputs": [],
   "source": [
    "with open('stopwords.txt','r') as f:\n",
    "    stopwords = f.read().split(' ')"
   ]
  },
  {
   "cell_type": "code",
   "execution_count": 4,
   "id": "5bf7640c",
   "metadata": {
    "scrolled": true
   },
   "outputs": [],
   "source": [
    "from Vfdt import Vfdt\n",
    "from VfdtNode import VfdtNode\n",
    "from DataProcess import DataProcess"
   ]
  },
  {
   "cell_type": "raw",
   "id": "999c4cf4",
   "metadata": {},
   "source": [
    "因训练时间较长，仅展示500特征下的分类器训练与测试，余下仅展示测试"
   ]
  },
  {
   "cell_type": "raw",
   "id": "876ed6f8",
   "metadata": {},
   "source": [
    "特征500"
   ]
  },
  {
   "cell_type": "code",
   "execution_count": 5,
   "id": "3df0538c",
   "metadata": {},
   "outputs": [],
   "source": [
    "tree = DataProcess().datasetIO('tree_500.pkl','rb')"
   ]
  },
  {
   "cell_type": "code",
   "execution_count": 10,
   "id": "10aca8bf",
   "metadata": {
    "scrolled": false
   },
   "outputs": [],
   "source": [
    "with open('1.dot','w') as f:\n",
    "    f.write(tree.toGraph(20))"
   ]
  },
  {
   "cell_type": "code",
   "execution_count": 6,
   "id": "aaea4054",
   "metadata": {},
   "outputs": [
    {
     "name": "stderr",
     "output_type": "stream",
     "text": [
      "E:\\ProgramData\\Anaconda3\\lib\\site-packages\\sklearn\\feature_extraction\\text.py:388: UserWarning: Your stop_words may be inconsistent with your preprocessing. Tokenizing the stop words generated tokens ['ain', 'aren', 'couldn', 'didn', 'doesn', 'don', 'hadn', 'hasn', 'haven', 'isn', 'lex', 'll', 'mon', 'shouldn', 've', 'wasn', 'weren', 'won', 'wouldn', '①①', '①②', '①④', '①⑤', '①⑦', '①⑧', '①⑨', '①ａ', '①ｂ', '①ｃ', '①ｄ', '①ｅ', '①ｆ', '①ｇ', '①ｈ', '①ｉ', '①ｏ', '②①', '②②', '②③', '②④', '②⑤', '②⑥', '②⑦', '②⑧', '②⑩', '②ａ', '②ｄ', '②ｆ', '②ｇ', '②ｈ', '②ｉ', '②ｊ', '③①', '③⑩', '③ａ', '③ｂ', '③ｃ', '③ｄ', '③ｅ', '③ｆ', '③ｇ', '④ｂ', '④ｃ', '④ｄ', '④ｅ', '⑤ａ', '⑤ｂ', '⑤ｄ', '⑤ｅ', '⑤ｆ', '１２', 'ｌｉ', 'ｚｘｆｉｔｌ'] not in stop_words.\n",
      "  warnings.warn('Your stop_words may be inconsistent with '\n"
     ]
    },
    {
     "data": {
      "application/vnd.jupyter.widget-view+json": {
       "model_id": "b765d456847649b4849169b5de7a2fbf",
       "version_major": 2,
       "version_minor": 0
      },
      "text/plain": [
       "  0%|          | 0/10000 [00:00<?, ?it/s]"
      ]
     },
     "metadata": {},
     "output_type": "display_data"
    },
    {
     "data": {
      "application/vnd.jupyter.widget-view+json": {
       "model_id": "d5a79b9e02ad4f139410cfe03c012ef8",
       "version_major": 2,
       "version_minor": 0
      },
      "text/plain": [
       "  0%|          | 0/10000 [00:00<?, ?it/s]"
      ]
     },
     "metadata": {},
     "output_type": "display_data"
    },
    {
     "data": {
      "text/plain": [
       "0.2633"
      ]
     },
     "execution_count": 6,
     "metadata": {},
     "output_type": "execute_result"
    }
   ],
   "source": [
    "feature,label = HashingVectorizer(stop_words = stopwords,n_features = 500).fit_transform(np.asarray(datasets)[:,1]).toarray(),np.asarray(datasets)[:,0]\n",
    "feature_list = list(range(feature.shape[1]))\n",
    "tree = Vfdt(feature_list,['continuous'] * len(feature_list), delta = 0.01, nmin = 100, tau = 0.5,using_nmins_adaptation = True)\n",
    "tree.update(feature[:10000],np.array(label[:10000]).astype(int) - 100)\n",
    "DataProcess().datasetIO('tree_500.pkl','wb',tree)\n",
    "tree = DataProcess().datasetIO('tree_500.pkl','rb')\n",
    "np.sum(np.array(tree.predict(feature[10000:])) == np.array(label[10000:]).astype(int) - 100) / 10000"
   ]
  },
  {
   "cell_type": "raw",
   "id": "6f99f6d0",
   "metadata": {},
   "source": [
    "特征1000"
   ]
  },
  {
   "cell_type": "code",
   "execution_count": 7,
   "id": "f8a37459",
   "metadata": {},
   "outputs": [],
   "source": [
    "feature,label = HashingVectorizer(stop_words = stopwords,n_features = 1000).fit_transform(np.asarray(datasets)[:,1]).toarray(),np.asarray(datasets)[:,0]"
   ]
  },
  {
   "cell_type": "code",
   "execution_count": null,
   "id": "3af0108a",
   "metadata": {},
   "outputs": [],
   "source": [
    "feature_list = list(range(feature.shape[1]))\n",
    "tree = Vfdt(feature_list,['continuous'] * len(feature_list), delta = 0.01, nmin = 100, tau = 0.5,using_nmins_adaptation = True)\n",
    "tree.update(feature[:10000],np.array(label[:10000]).astype(int) - 100)\n",
    "DataProcess().datasetIO('tree_1000.pkl','wb',tree)"
   ]
  },
  {
   "cell_type": "code",
   "execution_count": 8,
   "id": "ca506a9f",
   "metadata": {},
   "outputs": [
    {
     "data": {
      "application/vnd.jupyter.widget-view+json": {
       "model_id": "01584d7703f24e2986e541f7b8510586",
       "version_major": 2,
       "version_minor": 0
      },
      "text/plain": [
       "  0%|          | 0/10000 [00:00<?, ?it/s]"
      ]
     },
     "metadata": {},
     "output_type": "display_data"
    },
    {
     "data": {
      "text/plain": [
       "0.2963"
      ]
     },
     "execution_count": 8,
     "metadata": {},
     "output_type": "execute_result"
    }
   ],
   "source": [
    "tree = DataProcess().datasetIO('tree_1000.pkl','rb')\n",
    "np.sum(np.array(tree.predict(feature[10000:])) == np.array(label[10000:]).astype(int) - 100) / 10000"
   ]
  },
  {
   "cell_type": "raw",
   "id": "6568e874",
   "metadata": {},
   "source": [
    "特征2000"
   ]
  },
  {
   "cell_type": "code",
   "execution_count": 10,
   "id": "692cc14c",
   "metadata": {},
   "outputs": [],
   "source": [
    "feature,label = HashingVectorizer(stop_words = stopwords,n_features = 2000).fit_transform(np.asarray(datasets)[:,1]).toarray(),np.asarray(datasets)[:,0]"
   ]
  },
  {
   "cell_type": "code",
   "execution_count": null,
   "id": "24203cdb",
   "metadata": {},
   "outputs": [],
   "source": [
    "feature,label = HashingVectorizer(stop_words = stopwords,n_features = 2000).fit_transform(np.asarray(datasets)[:,1]).toarray(),np.asarray(datasets)[:,0]\n",
    "feature_list = list(range(feature.shape[1]))\n",
    "tree = Vfdt(feature_list,['continuous'] * len(feature_list), delta = 0.01, nmin = 100, tau = 0.5,using_nmins_adaptation = True)\n",
    "tree.update(feature[:10000],np.array(label[:10000]).astype(int) - 100)\n",
    "DataProcess().datasetIO('tree_2000.pkl','wb',tree)"
   ]
  },
  {
   "cell_type": "code",
   "execution_count": 11,
   "id": "982e5a65",
   "metadata": {},
   "outputs": [
    {
     "data": {
      "application/vnd.jupyter.widget-view+json": {
       "model_id": "56af8379701c41a88cfb0ba07714befc",
       "version_major": 2,
       "version_minor": 0
      },
      "text/plain": [
       "  0%|          | 0/10000 [00:00<?, ?it/s]"
      ]
     },
     "metadata": {},
     "output_type": "display_data"
    },
    {
     "data": {
      "text/plain": [
       "0.2821"
      ]
     },
     "execution_count": 11,
     "metadata": {},
     "output_type": "execute_result"
    }
   ],
   "source": [
    "tree = DataProcess().datasetIO('tree_2000.pkl','rb')\n",
    "np.sum(np.array(tree.predict(feature[10000:])) == np.array(label[10000:]).astype(int) - 100) / 10000"
   ]
  },
  {
   "cell_type": "code",
   "execution_count": null,
   "id": "c2c498ca",
   "metadata": {},
   "outputs": [],
   "source": [
    "特征3000"
   ]
  },
  {
   "cell_type": "code",
   "execution_count": 12,
   "id": "7304dd4d",
   "metadata": {},
   "outputs": [],
   "source": [
    "feature,label = HashingVectorizer(stop_words = stopwords,n_features = 3000).fit_transform(np.asarray(datasets)[:,1]).toarray(),np.asarray(datasets)[:,0]"
   ]
  },
  {
   "cell_type": "code",
   "execution_count": null,
   "id": "0c6edfac",
   "metadata": {},
   "outputs": [],
   "source": [
    "feature_list = list(range(feature.shape[1]))\n",
    "tree = Vfdt(feature_list,['continuous'] * len(feature_list), delta = 0.01, nmin = 100, tau = 0.5,using_nmins_adaptation = True)\n",
    "tree.update(feature[:10000],np.array(label[:10000]).astype(int) - 100)\n",
    "DataProcess().datasetIO('tree_3000.pkl','wb',tree)"
   ]
  },
  {
   "cell_type": "code",
   "execution_count": 13,
   "id": "13ef78bf",
   "metadata": {},
   "outputs": [
    {
     "data": {
      "application/vnd.jupyter.widget-view+json": {
       "model_id": "6b0593fe29514553b16cbe7b68cae118",
       "version_major": 2,
       "version_minor": 0
      },
      "text/plain": [
       "  0%|          | 0/10000 [00:00<?, ?it/s]"
      ]
     },
     "metadata": {},
     "output_type": "display_data"
    },
    {
     "data": {
      "text/plain": [
       "0.3232"
      ]
     },
     "execution_count": 13,
     "metadata": {},
     "output_type": "execute_result"
    }
   ],
   "source": [
    "tree = DataProcess().datasetIO('tree_3000.pkl','rb')\n",
    "np.sum(np.array(tree.predict(feature[10000:])) == np.array(label[10000:]).astype(int) - 100) / 10000"
   ]
  },
  {
   "cell_type": "raw",
   "id": "440ad0f8",
   "metadata": {},
   "source": [
    "特征4000"
   ]
  },
  {
   "cell_type": "code",
   "execution_count": 17,
   "id": "77613703",
   "metadata": {},
   "outputs": [],
   "source": [
    "feature,label = HashingVectorizer(stop_words = stopwords,n_features = 4000).fit_transform(np.asarray(datasets)[:,1]).toarray(),np.asarray(datasets)[:,0]"
   ]
  },
  {
   "cell_type": "code",
   "execution_count": null,
   "id": "b8b9ae2a",
   "metadata": {},
   "outputs": [],
   "source": [
    "feature_list = list(range(feature.shape[1]))\n",
    "tree = Vfdt(feature_list,['continuous'] * len(feature_list), delta = 0.01, nmin = 100, tau = 0.5,using_nmins_adaptation = True)\n",
    "tree.update(feature[:10000],np.array(label[:10000]).astype(int) - 100)\n",
    "DataProcess().datasetIO('tree_4000.pkl','wb',tree)"
   ]
  },
  {
   "cell_type": "code",
   "execution_count": 18,
   "id": "74dc484f",
   "metadata": {},
   "outputs": [
    {
     "data": {
      "application/vnd.jupyter.widget-view+json": {
       "model_id": "128f82bc58ca4039938ebb6c7fd9241c",
       "version_major": 2,
       "version_minor": 0
      },
      "text/plain": [
       "  0%|          | 0/10000 [00:00<?, ?it/s]"
      ]
     },
     "metadata": {},
     "output_type": "display_data"
    },
    {
     "data": {
      "text/plain": [
       "0.3369"
      ]
     },
     "execution_count": 18,
     "metadata": {},
     "output_type": "execute_result"
    }
   ],
   "source": [
    "tree = DataProcess().datasetIO('tree_4000.pkl','rb')\n",
    "np.sum(np.array(tree.predict(feature[10000:])) == np.array(label[10000:]).astype(int) - 100) / 10000"
   ]
  },
  {
   "cell_type": "raw",
   "id": "1f9c2667",
   "metadata": {},
   "source": [
    "特征5000"
   ]
  },
  {
   "cell_type": "code",
   "execution_count": 15,
   "id": "b35a7f2a",
   "metadata": {},
   "outputs": [],
   "source": [
    "feature,label = HashingVectorizer(stop_words = stopwords,n_features = 5000).fit_transform(np.asarray(datasets)[:,1]).toarray(),np.asarray(datasets)[:,0]"
   ]
  },
  {
   "cell_type": "code",
   "execution_count": null,
   "id": "3ca16ef4",
   "metadata": {},
   "outputs": [],
   "source": [
    "feature_list = list(range(feature.shape[1]))\n",
    "tree = Vfdt(feature_list,['continuous'] * len(feature_list), delta = 0.01, nmin = 100, tau = 0.5,using_nmins_adaptation = True)\n",
    "tree.update(feature[:10000],np.array(label[:10000]).astype(int) - 100)\n",
    "DataProcess().datasetIO('tree_5000.pkl','wb',tree)"
   ]
  },
  {
   "cell_type": "code",
   "execution_count": 16,
   "id": "378f2b96",
   "metadata": {},
   "outputs": [
    {
     "data": {
      "application/vnd.jupyter.widget-view+json": {
       "model_id": "ac0934f6a40a416182b10c1cac5ac159",
       "version_major": 2,
       "version_minor": 0
      },
      "text/plain": [
       "  0%|          | 0/10000 [00:00<?, ?it/s]"
      ]
     },
     "metadata": {},
     "output_type": "display_data"
    },
    {
     "data": {
      "text/plain": [
       "0.3324"
      ]
     },
     "execution_count": 16,
     "metadata": {},
     "output_type": "execute_result"
    }
   ],
   "source": [
    "tree = DataProcess().datasetIO('tree_5000.pkl','rb')\n",
    "np.sum(np.array(tree.predict(feature[10000:])) == np.array(label[10000:]).astype(int) - 100) / 10000"
   ]
  }
 ],
 "metadata": {
  "kernelspec": {
   "display_name": "Python 3",
   "language": "python",
   "name": "python3"
  },
  "language_info": {
   "codemirror_mode": {
    "name": "ipython",
    "version": 3
   },
   "file_extension": ".py",
   "mimetype": "text/x-python",
   "name": "python",
   "nbconvert_exporter": "python",
   "pygments_lexer": "ipython3",
   "version": "3.8.8"
  }
 },
 "nbformat": 4,
 "nbformat_minor": 5
}
